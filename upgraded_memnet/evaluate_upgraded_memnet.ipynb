{
 "cells": [
  {
   "cell_type": "markdown",
   "metadata": {},
   "source": [
    "# Clean notebook to evaluate upgraded MemNet\n",
    "\n",
    "New model based on DenseNet. This notebook gives the necessary functions to load data and evaluate a given ckpt."
   ]
  },
  {
   "cell_type": "code",
   "execution_count": 1,
   "metadata": {},
   "outputs": [],
   "source": [
    "# Imports\n",
    "import keras\n",
    "import numpy as np\n",
    "import matplotlib.pyplot as plt\n",
    "from keras.layers import Conv2D, MaxPooling2D, Dropout, Dense, GlobalAveragePooling2D, Input, TimeDistributed\n",
    "from keras.models import Model\n",
    "from keras.preprocessing.image import ImageDataGenerator\n",
    "from keras.utils import Sequence\n",
    "import os\n",
    "import cv2\n",
    "from cv2 import imread, resize\n",
    "from scipy.stats import spearmanr\n",
    "import keras.backend as K\n",
    "from keras.optimizers import Adam, SGD\n",
    "import seaborn as sns\n",
    "import pandas as pd\n",
    "import sys\n",
    "from PIL import Image\n",
    "\n",
    "\n",
    "%load_ext autoreload\n",
    "%autoreload 2"
   ]
  },
  {
   "cell_type": "markdown",
   "metadata": {},
   "source": [
    "## Instantiate DenseNet"
   ]
  },
  {
   "cell_type": "code",
   "execution_count": 2,
   "metadata": {},
   "outputs": [
    {
     "name": "stdout",
     "output_type": "stream",
     "text": [
      "Model: \"model\"\n",
      "_________________________________________________________________\n",
      "Layer (type)                 Output Shape              Param #   \n",
      "=================================================================\n",
      "input_2 (InputLayer)         [(None, 224, 224, 3)]     0         \n",
      "_________________________________________________________________\n",
      "densenet121 (Model)          multiple                  7037504   \n",
      "_________________________________________________________________\n",
      "global_average_pooling2d (Gl (None, 1024)              0         \n",
      "_________________________________________________________________\n",
      "dense (Dense)                (None, 1)                 1025      \n",
      "=================================================================\n",
      "Total params: 7,038,529\n",
      "Trainable params: 6,954,881\n",
      "Non-trainable params: 83,648\n",
      "_________________________________________________________________\n"
     ]
    }
   ],
   "source": [
    "# Instantiating a DenseNet121 \n",
    "from keras.applications.densenet import DenseNet121\n",
    "\n",
    "densenet = DenseNet121(weights='imagenet', include_top=False)\n",
    "\n",
    "inp = Input(shape=(224,224,3))\n",
    "x = densenet(inp)\n",
    "x = GlobalAveragePooling2D()(x)\n",
    "x = Dense(1, activation='sigmoid')(x)\n",
    "\n",
    "model = Model(inputs = inp, outputs = x)\n",
    "\n",
    "model.summary()\n"
   ]
  },
  {
   "cell_type": "markdown",
   "metadata": {},
   "source": [
    "## Getting train and test data"
   ]
  },
  {
   "cell_type": "code",
   "execution_count": 3,
   "metadata": {},
   "outputs": [],
   "source": [
    "def get_filenames_labels(txt_file, data_path):\n",
    "    '''Gets array of image filenames and labels for a given txt_file correpsonding to a lamem split.\n",
    "    Inputs:\n",
    "        txt_file: string with the name of the txt_file. Expected to be found in the splits folder of lamem.\n",
    "        data_path: relative or absolute path to the lamem folder. The folder has to contain a \"splits\" and an \"images\" folder.\n",
    "    Returns:\n",
    "        two numpy arrays of the same size. The first contains filenames (strings), the second contains memorability scores (float).\n",
    "    '''\n",
    "    \n",
    "    with open(os.path.join(data_path, 'splits', txt_file), 'r') as file:\n",
    "        lines =  [l.split(' ') for l in file]\n",
    "        image_filepaths = [os.path.join(data_path, 'images', l[0]) for l in lines]\n",
    "        labels =  [float(l[1][:-2]) for l in lines]\n",
    "    return np.array(image_filepaths), np.array(labels)"
   ]
  },
  {
   "cell_type": "code",
   "execution_count": 4,
   "metadata": {},
   "outputs": [
    {
     "name": "stdout",
     "output_type": "stream",
     "text": [
      "shapes of train, test and val arrays for split 1: (45000,) (45000,) (3741,) (3741,) (10000,) (10000,)\n"
     ]
    }
   ],
   "source": [
    "files_train = {}\n",
    "files_val = {}\n",
    "files_test = {}\n",
    "y_train = {}\n",
    "y_val = {}\n",
    "y_test = {}\n",
    "\n",
    "# input the path to the main lamem folder (should contain a 'splits' folder and an 'images' folders)\n",
    "data_path = '../../lamem/lamem'\n",
    "\n",
    "splits_to_load = [1,2,3,4,5]\n",
    "\n",
    "for s in splits_to_load:\n",
    "\n",
    "    files_train[s], y_train[s] = get_filenames_labels('train_%s.txt'%s, data_path)\n",
    "    files_val[s], y_val[s] = get_filenames_labels('val_%s.txt'%s, data_path)\n",
    "    files_test[s], y_test[s] = get_filenames_labels('test_%s.txt'%s, data_path)\n",
    "\n",
    "print('shapes of train, test and val arrays for split 1:',files_train[1].shape, y_train[1].shape, files_val[1].shape, y_val[1].shape, files_test[1].shape, y_test[1].shape)"
   ]
  },
  {
   "cell_type": "markdown",
   "metadata": {},
   "source": [
    "## Evaluate Model\n",
    "Evaluate MSE on full val and test + Rank correlaction on full val and test"
   ]
  },
  {
   "cell_type": "code",
   "execution_count": 5,
   "metadata": {},
   "outputs": [
    {
     "name": "stdout",
     "output_type": "stream",
     "text": [
      "Model: \"model\"\n",
      "_________________________________________________________________\n",
      "Layer (type)                 Output Shape              Param #   \n",
      "=================================================================\n",
      "input_2 (InputLayer)         [(None, 224, 224, 3)]     0         \n",
      "_________________________________________________________________\n",
      "densenet121 (Model)          multiple                  7037504   \n",
      "_________________________________________________________________\n",
      "global_average_pooling2d (Gl (None, 1024)              0         \n",
      "_________________________________________________________________\n",
      "dense (Dense)                (None, 1)                 1025      \n",
      "=================================================================\n",
      "Total params: 7,038,529\n",
      "Trainable params: 6,954,881\n",
      "Non-trainable params: 83,648\n",
      "_________________________________________________________________\n"
     ]
    }
   ],
   "source": [
    "# load up a model or use the one that we just trained above\n",
    "LOAD_MODEL = True\n",
    "\n",
    "if LOAD_MODEL:\n",
    "    model_eval=model\n",
    "    model_eval.load_weights('weights-rc0.662.hdf5')\n",
    "else:\n",
    "    model_eval = model\n",
    "    \n",
    "model_eval.summary()"
   ]
  },
  {
   "cell_type": "markdown",
   "metadata": {},
   "source": [
    "### Set up Keras Generator"
   ]
  },
  {
   "cell_type": "code",
   "execution_count": 6,
   "metadata": {},
   "outputs": [],
   "source": [
    "\n",
    "class MemGenerator(Sequence):\n",
    "\n",
    "    def __init__(self, image_filenames, labels, batch_size, img_size=(224,224), shuffle=True, augment=False, mixup=False, two_losses=False):\n",
    "        self.image_filenames, self.labels = np.array(image_filenames), np.array(labels)\n",
    "        self.batch_size = batch_size\n",
    "        self.img_size = img_size\n",
    "        self.shuffle = shuffle\n",
    "        self.augment = augment\n",
    "        self.mixup=mixup\n",
    "        self.two_losses=two_losses\n",
    "\n",
    "        if augment:\n",
    "            sometimes = lambda aug: iaa.Sometimes(0.4, aug)\n",
    "\n",
    "            self.seq = iaa.Sequential([\n",
    "                    sometimes(iaa.CropAndPad(px=(0, 20))), # crop images from each side by 0 to 16px (randomly chosen)\n",
    "                    iaa.Fliplr(0.5), # horizontally flip 50% of the images\n",
    "                    sometimes(iaa.CoarseDropout(p=0.1, size_percent=0.05)),\n",
    "                    sometimes(iaa.Affine(rotate=(-15, 15)))\n",
    "                ])\n",
    "\n",
    "\n",
    "        if shuffle:\n",
    "            self.on_epoch_end()\n",
    "\n",
    "    def __len__(self):\n",
    "        return int(np.ceil(len(self.image_filenames) / float(self.batch_size)))\n",
    "\n",
    "    def __getitem__(self, idx):\n",
    "        batch_x = self.image_filenames[idx * self.batch_size : (idx + 1) * self.batch_size]\n",
    "        batch_y = self.labels[idx * self.batch_size : (idx + 1) * self.batch_size]\n",
    "\n",
    "        images=[]\n",
    "        for file_name in batch_x:\n",
    "#             print(file_name)\n",
    "            im = imread(file_name)[...,::-1]\n",
    "#             im = cv2.cvtColor(im, cv2.COLOR_BGR2RGB)\n",
    "\n",
    "\n",
    "            images.append(im)\n",
    "\n",
    "        if self.augment:\n",
    "            images = self.seq.augment_images(images)\n",
    "\n",
    "\n",
    "        img_batch = np.array([resize(im/255.0, self.img_size) for im in images])\n",
    "\n",
    "        if self.augment and self.mixup:\n",
    "            if np.random.rand()>0.85:\n",
    "                alpha = np.random.rand()\n",
    "                blended = img_batch[0]*(1.0-alpha) + img_batch[1]*alpha\n",
    "                blended_y = batch_y[0]*(1.0-alpha) + batch_y[1]*alpha\n",
    "\n",
    "#                 print('blending images with alpha %.4f!!!' % alpha)\n",
    "#                 print('min max of blended', blended.min(), blended.max(), type(blended[0,0,0]))\n",
    "\n",
    "                img_batch[0] = blended\n",
    "                batch_y[0] = blended_y\n",
    "\n",
    "        if self.two_losses:\n",
    "            return img_batch, [np.array(batch_y),np.array(batch_y)]\n",
    "        else:\n",
    "            return img_batch, np.array(batch_y)\n",
    "\n",
    "\n",
    "    def on_epoch_end(self):\n",
    "        if self.shuffle:\n",
    "            idxs = list(range(len(self.image_filenames)))\n",
    "            np.random.shuffle(idxs)\n",
    "            self.image_filenames = self.image_filenames[idxs]\n",
    "            self.labels = self.labels[idxs]\n",
    "\n",
    "\n"
   ]
  },
  {
   "cell_type": "markdown",
   "metadata": {},
   "source": [
    "### Generate predictions"
   ]
  },
  {
   "cell_type": "code",
   "execution_count": 7,
   "metadata": {},
   "outputs": [
    {
     "name": "stdout",
     "output_type": "stream",
     "text": [
      "WARNING:tensorflow:From <timed exec>:18: Model.predict_generator (from tensorflow.python.keras.engine.training) is deprecated and will be removed in a future version.\n",
      "Instructions for updating:\n",
      "Please use Model.predict, which supports generators.\n",
      "125/125 [==============================] - 40s 317ms/step\n",
      "334/334 [==============================] - 69s 206ms/step\n",
      "CPU times: user 6min 37s, sys: 1min 47s, total: 8min 25s\n",
      "Wall time: 2min 14s\n"
     ]
    }
   ],
   "source": [
    "%%time\n",
    "eval_train=False\n",
    "\n",
    "splits_to_test = [1,2,3,4]\n",
    "\n",
    "y_pred_train={}\n",
    "y_pred_val={}\n",
    "y_pred_test={}\n",
    "\n",
    "for s in splits_to_test:\n",
    "\n",
    "    if eval_train:\n",
    "        train_gen = MemGenerator(files_train[s], y_train[s], batch_size=30,shuffle=False)\n",
    "    val_gen = MemGenerator(files_val[s], y_val[s], batch_size=30, shuffle=False)\n",
    "    test_gen = MemGenerator(files_test[s], y_test[s], batch_size=30, shuffle=False) \n",
    "\n",
    "    if eval_train:\n",
    "        y_pred_train[s] = model_eval.predict_generator(train_gen, workers=10)\n",
    "    y_pred_val[s] = model_eval.predict_generator(val_gen, workers=10, verbose=True)\n",
    "    y_pred_test[s] = model_eval.predict_generator(test_gen, workers=10, verbose=True)\n"
   ]
  },
  {
   "cell_type": "markdown",
   "metadata": {},
   "source": [
    "### Plot the distributions of memorability predictions vs ground truth predictions for each split"
   ]
  },
  {
   "cell_type": "code",
   "execution_count": 19,
   "metadata": {},
   "outputs": [
    {
     "name": "stdout",
     "output_type": "stream",
     "text": [
      "SPLIT 1\n"
     ]
    },
    {
     "data": {
      "image/png": "[encoded data removed]",
      "text/plain": [
       "<Figure size 432x288 with 1 Axes>"
      ]
     },
     "metadata": {
      "needs_background": "light"
     },
     "output_type": "display_data"
    },
    {
     "data": {
      "image/png": "[encoded data removed]",
      "text/plain": [
       "<Figure size 432x288 with 1 Axes>"
      ]
     },
     "metadata": {
      "needs_background": "light"
     },
     "output_type": "display_data"
    }
   ],
   "source": [
    "# Distribution of preds vs ground truth\n",
    "\n",
    "for s in splits_to_test:\n",
    "    print('SPLIT',s)\n",
    "    \n",
    "    if eval_train:\n",
    "        plt.figure()\n",
    "        sns.distplot(y_pred_train[s])\n",
    "        sns.distplot(y_train[s])\n",
    "    \n",
    "    plt.figure()\n",
    "    sns.distplot(y_pred_val[s])\n",
    "    sns.distplot(y_val[s])\n",
    "    \n",
    "    plt.figure()\n",
    "    sns.distplot(y_pred_test[s])\n",
    "    sns.distplot(y_test[s])\n",
    "    \n",
    "    plt.show()"
   ]
  },
  {
   "cell_type": "markdown",
   "metadata": {},
   "source": [
    "### Compute MSE and RC for each split"
   ]
  },
  {
   "cell_type": "code",
   "execution_count": 20,
   "metadata": {},
   "outputs": [
    {
     "name": "stdout",
     "output_type": "stream",
     "text": [
      "split: 1\n",
      "VAL: MSE 0.0322,  RANK CORR 0.6540\n",
      "TEST: MSE 0.0327,  RANK CORR 0.6620\n",
      "\n",
      " Average over splits:\n",
      "VAL: AVG MSE 0.032, AVG RANK CORR 0.654\n",
      "TEST: AVG MSE 0.033, AVG RANK CORR 0.662\n"
     ]
    }
   ],
   "source": [
    "mse_val_sum=0\n",
    "mse_test_sum=0\n",
    "mse_train_sum=0\n",
    "r_val_sum=0\n",
    "r_test_sum=0\n",
    "r_train_sum=0\n",
    "\n",
    "for s in splits_to_test:\n",
    "     \n",
    "    if eval_train:\n",
    "        mse_train = np.mean((y_train[s] - y_pred_train[s])**2)\n",
    "        r_train = spearmanr(y_train[s],y_pred_train[s])[0]\n",
    "        mse_train_sum += mse_train\n",
    "        r_train_sum +=r_train\n",
    "\n",
    "    mse_val = np.mean((y_val[s] - y_pred_val[s])**2)\n",
    "    mse_test = np.mean((y_test[s] - y_pred_test[s])**2)\n",
    "\n",
    "    r_val = spearmanr(y_val[s],y_pred_val[s])[0]\n",
    "    r_test = spearmanr(y_test[s],y_pred_test[s])[0]\n",
    "\n",
    "    print('split:',s)\n",
    "    if eval_train:\n",
    "        print('TRAIN: MSE %.4f,  RANK CORR %.4f'%( mse_train, r_train))\n",
    "    print('VAL: MSE %.4f,  RANK CORR %.4f' % (mse_val, r_val))\n",
    "    print('TEST: MSE %.4f,  RANK CORR %.4f' % (mse_test, r_test))\n",
    "    \n",
    "    mse_val_sum += mse_val     \n",
    "    mse_test_sum += mse_test\n",
    "    \n",
    "    r_val_sum += r_val\n",
    "    r_test_sum += r_test\n",
    "    \n",
    "    \n",
    "print('\\n Average over splits:')\n",
    "if eval_train:\n",
    "    print('TRAIN: AVG MSE %.4f, AVG RANK CORR %.4f:' % (mse_train_sum/len(splits_to_test), r_train_sum/len(splits_to_test)))\n",
    "print('VAL: AVG MSE %.4f, AVG RANK CORR %.4f' % (mse_val_sum/len(splits_to_test), r_val_sum/len(splits_to_test)))\n",
    "print('TEST: AVG MSE %.4f, AVG RANK CORR %.4f' % (mse_test_sum/len(splits_to_test), r_test_sum/len(splits_to_test)))\n"
   ]
  },
  {
   "cell_type": "markdown",
   "metadata": {},
   "source": [
    "*Note:* The 'weights-rc0.662.hdf5' checkpoint contains a MemNet trained on split 1, hence the difference in performance between splits. The test sets of splits 2,3,4 contain data that the net has seen during training, so the RC results are not representative (higher than they should) for those splits."
   ]
  },
  {
   "cell_type": "code",
   "execution_count": null,
   "metadata": {},
   "outputs": [],
   "source": []
  }
 ],
 "metadata": {
  "kernelspec": {
   "display_name": "Python 3",
   "language": "python",
   "name": "python3"
  },
  "language_info": {
   "codemirror_mode": {
    "name": "ipython",
    "version": 3
   },
   "file_extension": ".py",
   "mimetype": "text/x-python",
   "name": "python",
   "nbconvert_exporter": "python",
   "pygments_lexer": "ipython3",
   "version": "3.8.3"
  }
 },
 "nbformat": 4,
 "nbformat_minor": 4
}
